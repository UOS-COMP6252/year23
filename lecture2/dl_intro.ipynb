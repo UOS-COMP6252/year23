{
 "cells": [
  {
   "cell_type": "markdown",
   "metadata": {
    "colab_type": "text",
    "id": "view-in-github",
    "slideshow": {
     "slide_type": "skip"
    }
   },
   "source": [
    "<a href=\"https://colab.research.google.com/github/hikmatfarhat-ndu/pytorch/blob/main/dl_intro.ipynb\" target=\"_parent\"><img src=\"https://colab.research.google.com/assets/colab-badge.svg\" alt=\"Open In Colab\"/></a>"
   ]
  },
  {
   "cell_type": "markdown",
   "metadata": {
    "id": "ZXG2Gc34Vqio",
    "slideshow": {
     "slide_type": "slide"
    }
   },
   "source": [
    "# What you will learn in this notebook\n",
    " \n",
    "1. Introduction to supervised learning and classification\n",
    "1. Introduction to loss functions, activation functions, and gradient descent\n",
    "1. Introduction to Pytorch packages, tensors, computation graphs, and gradients\n"
   ]
  },
  {
   "cell_type": "markdown",
   "metadata": {
    "slideshow": {
     "slide_type": "slide"
    }
   },
   "source": [
    "### PyTorch Tensors\n",
    "- A PyTorch ```tensor``` is an object that stores a multidimensional array\n",
    "- A ```tensor``` according to [PyTorch documentation](https://pytorch.org/docs/stable/tensors.html) is a multidimensional matrix containing elements of a single data type.\n",
    "- In addition to the data, a tensor has a large number of attributes and functions\n",
    "- A PyTorch tensor has a similar interface to numpy arrays"
   ]
  },
  {
   "cell_type": "markdown",
   "metadata": {
    "slideshow": {
     "slide_type": "slide"
    }
   },
   "source": [
    "### PyTorch Tensors"
   ]
  },
  {
   "cell_type": "code",
   "execution_count": 3,
   "metadata": {
    "slideshow": {
     "slide_type": "fragment"
    }
   },
   "outputs": [
    {
     "name": "stdout",
     "output_type": "stream",
     "text": [
      "b=tensor([[1., 2., 3.],\n",
      "        [4., 5., 6.]])\n",
      "b has dimensions torch.Size([2, 3])\n",
      "b has dimensions (2, 3)\n"
     ]
    }
   ],
   "source": [
    "import torch\n",
    "# a 2-dim tensor created from a list of lists\n",
    "b=torch.tensor([[1,2,3],[4,5,6]],dtype=torch.float32)\n",
    "print(\"b={}\".format(b))\n",
    "print(\"b has dimensions {}\".format(b.shape))\n",
    "#torch.Size() is iterable so we can create a list or tuple\n",
    "print(\"b has dimensions {}\".format(tuple(b.shape)))\n"
   ]
  },
  {
   "cell_type": "markdown",
   "metadata": {
    "slideshow": {
     "slide_type": "slide"
    }
   },
   "source": [
    "### PyTorch Tensors"
   ]
  },
  {
   "cell_type": "code",
   "execution_count": 15,
   "metadata": {
    "slideshow": {
     "slide_type": "fragment"
    }
   },
   "outputs": [
    {
     "name": "stdout",
     "output_type": "stream",
     "text": [
      "tensor(1.)\n",
      "torch.Size([])\n",
      "single value in a is 1.0\n"
     ]
    },
    {
     "data": {
      "text/plain": [
       "tensor([1.])"
      ]
     },
     "execution_count": 15,
     "metadata": {},
     "output_type": "execute_result"
    }
   ],
   "source": [
    "\n",
    "# A 0-dim tensor. Without dtype it will be implicitly an integer\n",
    "a=torch.tensor(1,dtype=torch.float32)\n",
    "print(a)\n",
    "print(a.shape)\n",
    "# use .item() to extract a scalar from a 0-d tensor\n",
    "print(\"single value in a is {}\".format(a.item()))"
   ]
  },
  {
   "cell_type": "markdown",
   "metadata": {
    "slideshow": {
     "slide_type": "slide"
    }
   },
   "source": [
    "### Tensor slices\n",
    "- Indexing and slices are similar to numpy\n"
   ]
  },
  {
   "cell_type": "code",
   "execution_count": 16,
   "metadata": {
    "slideshow": {
     "slide_type": "fragment"
    }
   },
   "outputs": [
    {
     "name": "stdout",
     "output_type": "stream",
     "text": [
      "tensor([[1., 2., 3.],\n",
      "        [4., 5., 6.]])\n",
      "(2, 3)\n",
      "tensor([1., 2., 3.])\n",
      "tensor([2., 5.])\n"
     ]
    }
   ],
   "source": [
    "print(b)\n",
    "print(tuple(b.size()))\n",
    "#print row index 0\n",
    "print(b[0,:])\n",
    "#print column index 1\n",
    "print(b[:,1])"
   ]
  },
  {
   "cell_type": "markdown",
   "metadata": {
    "slideshow": {
     "slide_type": "slide"
    }
   },
   "source": [
    "### From/to numpy "
   ]
  },
  {
   "cell_type": "code",
   "execution_count": 19,
   "metadata": {
    "slideshow": {
     "slide_type": "fragment"
    }
   },
   "outputs": [
    {
     "name": "stdout",
     "output_type": "stream",
     "text": [
      "b=tensor([[1., 2., 3.],\n",
      "        [4., 5., 6.]])\n",
      "b has torch.float32 as data type\n",
      "convert b to numpy array\n",
      "[[1. 2. 3.]\n",
      " [4. 5. 6.]]\n"
     ]
    }
   ],
   "source": [
    "import numpy as np\n",
    "a=np.array([[1,2,3],[4,5,6]],dtype=np.float32)\n",
    "b=torch.from_numpy(a)\n",
    "print(\"b={}\".format(b))\n",
    "print(\"b has {} as data type\".format(b.dtype))\n",
    "print(\"convert b to numpy array\")\n",
    "print(b.numpy())"
   ]
  },
  {
   "cell_type": "markdown",
   "metadata": {
    "slideshow": {
     "slide_type": "slide"
    }
   },
   "source": [
    "### Useful PyTorch operations"
   ]
  },
  {
   "cell_type": "code",
   "execution_count": 1,
   "metadata": {
    "slideshow": {
     "slide_type": "fragment"
    }
   },
   "outputs": [
    {
     "ename": "NameError",
     "evalue": "name 'torch' is not defined",
     "output_type": "error",
     "traceback": [
      "\u001b[0;31m---------------------------------------------------------------------------\u001b[0m",
      "\u001b[0;31mNameError\u001b[0m                                 Traceback (most recent call last)",
      "Cell \u001b[0;32mIn [1], line 2\u001b[0m\n\u001b[1;32m      1\u001b[0m \u001b[38;5;66;03m# Create a tensor of shape (2,3) whose values are all zeros \u001b[39;00m\n\u001b[0;32m----> 2\u001b[0m a\u001b[38;5;241m=\u001b[39m\u001b[43mtorch\u001b[49m\u001b[38;5;241m.\u001b[39mzeros([\u001b[38;5;241m2\u001b[39m,\u001b[38;5;241m3\u001b[39m])\n\u001b[1;32m      3\u001b[0m \u001b[38;5;28mprint\u001b[39m(a)\n\u001b[1;32m      4\u001b[0m \u001b[38;5;66;03m# Same as above but filled with ones\u001b[39;00m\n",
      "\u001b[0;31mNameError\u001b[0m: name 'torch' is not defined"
     ]
    }
   ],
   "source": [
    "# Create a tensor of shape (2,3) whose values are all zeros \n",
    "a=torch.zeros([2,3])\n",
    "print(a)\n",
    "# Same as above but filled with ones\n",
    "a=torch.ones([3,2])\n",
    "print(a)\n",
    "# Same as above but filled with random values from a uniform distribution over [0,1] \n",
    "# https://pytorch.org/docs/stable/generated/torch.rand.html\n",
    "a=torch.rand([2,3])\n",
    "# See also randn for a normal distribution\n",
    "#https://pytorch.org/docs/stable/generated/torch.randn.html\n",
    "\n",
    "print(a)\n"
   ]
  },
  {
   "cell_type": "markdown",
   "metadata": {
    "slideshow": {
     "slide_type": "slide"
    }
   },
   "source": [
    "### Useful PyTorch operations"
   ]
  },
  {
   "cell_type": "code",
   "execution_count": 7,
   "metadata": {
    "slideshow": {
     "slide_type": "fragment"
    }
   },
   "outputs": [
    {
     "name": "stdout",
     "output_type": "stream",
     "text": [
      "tensor([[1., 1., 1.],\n",
      "        [1., 1., 1.]])\n",
      "a=\n",
      "tensor([[1, 2, 3],\n",
      "        [4, 5, 6]])\n",
      "transpose of a=\n",
      "tensor([[1, 4],\n",
      "        [2, 5],\n",
      "        [3, 6]])\n"
     ]
    }
   ],
   "source": [
    "# A tensor filled with ones that has the same dimensions as tensor a\n",
    "b=torch.ones_like(a)\n",
    "print(b)\n",
    "\n",
    "# Transpose a tensor\n",
    "a=torch.tensor([[1,2,3],[4,5,6]])\n",
    "print(\"a=\")\n",
    "print(a)\n",
    "print(\"transpose of a=\")\n",
    "print(a.transpose(0,1))"
   ]
  },
  {
   "cell_type": "markdown",
   "metadata": {
    "slideshow": {
     "slide_type": "slide"
    }
   },
   "source": [
    "### squeeze/unsqueeze/stack\n",
    "- In some situations one might need to add/remove dimensions from a tensor\n",
    "- This can only be done if added/removed dimensionality size is one\n",
    "- For example, a tensor of shape (1,3,3) or (2,1,2)\n",
    "- Can be converted to (3,3) and (2,2)\n",
    "- and vice-versa\n"
   ]
  },
  {
   "cell_type": "code",
   "execution_count": 28,
   "metadata": {
    "slideshow": {
     "slide_type": "slide"
    }
   },
   "outputs": [
    {
     "name": "stdout",
     "output_type": "stream",
     "text": [
      "a's original shape (2, 3)\n",
      "a's shape after squeeze (1, 2, 3)\n",
      "a's shape after squeezing a different dimension (2, 1, 3)\n"
     ]
    },
    {
     "data": {
      "text/plain": [
       "tensor([1., 2., 3., 4., 5., 6.])"
      ]
     },
     "execution_count": 28,
     "metadata": {},
     "output_type": "execute_result"
    }
   ],
   "source": [
    "a=torch.tensor([[1,2,3],[4.,5.,6.]])\n",
    "print(\"a's original shape\",tuple(a.size()))\n",
    "print(\"a's shape after unsqueeze\",tuple(a.unsqueeze(0).size()))\n",
    "print(\"a's shape after unsqueezing a different dimension\",tuple(a.unsqueeze(1).size()))\n",
    "a.reshape(6)"
   ]
  },
  {
   "cell_type": "code",
   "execution_count": 31,
   "metadata": {
    "slideshow": {
     "slide_type": "slide"
    }
   },
   "outputs": [
    {
     "name": "stdout",
     "output_type": "stream",
     "text": [
      "tensor([[1., 2., 3.],\n",
      "        [4., 5., 6.]])\n"
     ]
    },
    {
     "ename": "AttributeError",
     "evalue": "'Tensor' object has no attribute 'reshape_'",
     "output_type": "error",
     "traceback": [
      "\u001b[0;31m---------------------------------------------------------------------------\u001b[0m",
      "\u001b[0;31mAttributeError\u001b[0m                            Traceback (most recent call last)",
      "Cell \u001b[0;32mIn [31], line 5\u001b[0m\n\u001b[1;32m      3\u001b[0m c\u001b[38;5;241m=\u001b[39mtorch\u001b[38;5;241m.\u001b[39mstack([a,b])\n\u001b[1;32m      4\u001b[0m \u001b[38;5;28mprint\u001b[39m(c)\n\u001b[0;32m----> 5\u001b[0m \u001b[43mc\u001b[49m\u001b[38;5;241;43m.\u001b[39;49m\u001b[43mreshape_\u001b[49m(\u001b[38;5;241m6\u001b[39m)\n",
      "\u001b[0;31mAttributeError\u001b[0m: 'Tensor' object has no attribute 'reshape_'"
     ]
    }
   ],
   "source": [
    "a=torch.tensor([1.,2,3])\n",
    "b=torch.tensor([4,5.,6])\n",
    "c=torch.stack([a,b])\n",
    "print(c)"
   ]
  },
  {
   "cell_type": "markdown",
   "metadata": {
    "slideshow": {
     "slide_type": "slide"
    }
   },
   "source": [
    "### In-place tensor operations\n",
    "\n",
    "- Given a tensor A\n",
    "- Some operations on A create a copy of A\n",
    "- Some operations (in-place) modify the tensor A itself. Usually have a \"_\" suffix"
   ]
  },
  {
   "cell_type": "code",
   "execution_count": 10,
   "metadata": {
    "slideshow": {
     "slide_type": "fragment"
    }
   },
   "outputs": [
    {
     "data": {
      "text/plain": [
       "torch.Size([1, 2, 3])"
      ]
     },
     "execution_count": 10,
     "metadata": {},
     "output_type": "execute_result"
    }
   ],
   "source": [
    "a=torch.tensor([[1,2,3],[4,5,6]],dtype=torch.float32)\n",
    "a.unsqueeze(0).shape"
   ]
  },
  {
   "cell_type": "code",
   "execution_count": 11,
   "metadata": {
    "slideshow": {
     "slide_type": "fragment"
    }
   },
   "outputs": [
    {
     "name": "stdout",
     "output_type": "stream",
     "text": [
      "torch.Size([2, 3])\n"
     ]
    }
   ],
   "source": [
    "print(a.size())"
   ]
  },
  {
   "cell_type": "code",
   "execution_count": 13,
   "metadata": {
    "slideshow": {
     "slide_type": "fragment"
    }
   },
   "outputs": [
    {
     "name": "stdout",
     "output_type": "stream",
     "text": [
      "torch.Size([1, 1, 2, 3])\n"
     ]
    }
   ],
   "source": [
    "a.unsqueeze_(0)\n",
    "print(a.size())"
   ]
  },
  {
   "cell_type": "markdown",
   "metadata": {
    "slideshow": {
     "slide_type": "slide"
    }
   },
   "source": [
    "### More about in-place operations\n",
    "- In addition to methods with an underscore suffix the following are also in-place\n",
    "- +=,-=,*=,/=,\n",
    "- using an index or slice, e.g. x[0]=2"
   ]
  },
  {
   "cell_type": "code",
   "execution_count": 18,
   "metadata": {
    "slideshow": {
     "slide_type": "fragment"
    }
   },
   "outputs": [
    {
     "name": "stdout",
     "output_type": "stream",
     "text": [
      "140368111034640\n",
      "140371479780608\n",
      "140371479780608\n",
      "140371479780608\n",
      "tensor([ 9., 10.])\n"
     ]
    }
   ],
   "source": [
    "x=torch.tensor([1.,2])\n",
    "y=torch.tensor([3.,4])\n",
    "print(id(x))\n",
    "x=x+y # a new tensor is allocated\n",
    "print(id(x))\n",
    "x+=y # this is an in-place operation\n",
    "print(id(x))"
   ]
  },
  {
   "cell_type": "code",
   "execution_count": 19,
   "metadata": {
    "slideshow": {
     "slide_type": "slide"
    }
   },
   "outputs": [
    {
     "name": "stdout",
     "output_type": "stream",
     "text": [
      "140368111034720\n",
      "140368111034720\n",
      "tensor([ 9., 10.])\n"
     ]
    }
   ],
   "source": [
    "x=torch.tensor([1.,2])\n",
    "y=torch.tensor([3.,4])\n",
    "x=x+y # a new tensor is allocated\n",
    "x+=y # this is an in-place operation\n",
    "print(id(x))\n",
    "x[0]=9\n",
    "print(id(x))\n",
    "print(x)"
   ]
  },
  {
   "cell_type": "markdown",
   "metadata": {},
   "source": [
    "### autograd package"
   ]
  },
  {
   "cell_type": "markdown",
   "metadata": {},
   "source": [
    "### Do linear regression using PyTorch"
   ]
  },
  {
   "cell_type": "markdown",
   "metadata": {
    "id": "zpJEiPpbHjjk",
    "slideshow": {
     "slide_type": "slide"
    }
   },
   "source": [
    "## CIFAR10 Dataset\n",
    "\n",
    "- We will use some of PyTorch capabilities to perform a classification problem using logistic regression\n",
    "- CIFAR10 is a set of 60000 images (50000 for training and 10000 for testing)\n",
    "- The images are of 10 different classes: \n",
    "- airplanes,cars,birds,cats,deers,dogs,frogs,horses,ships,trucks\n",
    "- CIFAR10 can be accessed using the ```torchvision``` package. "
   ]
  },
  {
   "cell_type": "code",
   "execution_count": 8,
   "metadata": {
    "colab": {
     "base_uri": "https://localhost:8080/",
     "height": 102,
     "referenced_widgets": [
      "9daf573e127d45b0a13d392d625f6dd7",
      "df2a9b2f02d2434682d4ca213568fbc9",
      "ffce6ae3a0f14491a4690ddec0df4674",
      "716eed7ac5b242b1a43d095c0376fdfd",
      "10a2f8fa1176415eb1427954d02ac81e",
      "fc2f840078b44934a9a0a972b2d1a6aa",
      "c49c0f939d094f8bb00e028bcae134cb",
      "c25206d0d8be44e3b18028c61228dbd4",
      "1fe3e0a792204b568fdeada38bff559a",
      "eff7dac6203a4409bd25e5a0fafbfe5f",
      "ffe956b562a148a9abb63f496ce91030"
     ]
    },
    "id": "XXoGGW1OaAEZ",
    "outputId": "7ca064b1-c917-42e1-e5ed-88e7e00311ca"
   },
   "outputs": [
    {
     "name": "stdout",
     "output_type": "stream",
     "text": [
      "Downloading https://www.cs.toronto.edu/~kriz/cifar-10-python.tar.gz to ./cifar-10-python.tar.gz\n"
     ]
    },
    {
     "data": {
      "application/vnd.jupyter.widget-view+json": {
       "model_id": "05549ecba4a6425886a597a2ee603159",
       "version_major": 2,
       "version_minor": 0
      },
      "text/plain": [
       "  0%|          | 0/170498071 [00:00<?, ?it/s]"
      ]
     },
     "metadata": {},
     "output_type": "display_data"
    },
    {
     "name": "stdout",
     "output_type": "stream",
     "text": [
      "Extracting ./cifar-10-python.tar.gz to .\n",
      "Files already downloaded and verified\n"
     ]
    }
   ],
   "source": [
    "import torchvision as vision\n",
    "cifar10_train=vision.datasets.CIFAR10(\".\",download=True,train=True)# train=True is the default\n",
    "cifar10_test=vision.datasets.CIFAR10(\".\",download=True,train=False)"
   ]
  },
  {
   "cell_type": "markdown",
   "metadata": {
    "id": "tiK2f9uyH2uH",
    "slideshow": {
     "slide_type": "slide"
    }
   },
   "source": [
    "It helps to get an idea of the properties of the dataset and how to use torch datasets"
   ]
  },
  {
   "cell_type": "code",
   "execution_count": 9,
   "metadata": {
    "colab": {
     "base_uri": "https://localhost:8080/"
    },
    "id": "6tHVh-P7IQ8h",
    "outputId": "e81acc7a-69ad-4dde-8941-f7940d9c89eb",
    "slideshow": {
     "slide_type": "fragment"
    }
   },
   "outputs": [
    {
     "name": "stdout",
     "output_type": "stream",
     "text": [
      "The length of training data is 50000 and the test data is 10000\n"
     ]
    }
   ],
   "source": [
    "train_samples=len(cifar10_train)\n",
    "test_samples=len(cifar10_test)\n",
    "print(\"The length of training data is {} and the test data is {}\".format(train_samples,test_samples))\n"
   ]
  },
  {
   "cell_type": "markdown",
   "metadata": {
    "id": "m7zBqVB3oCeV",
    "slideshow": {
     "slide_type": "fragment"
    }
   },
   "source": [
    "Because datasets are **iterable** objects (see explanation [here](https://docs.python.org/3/glossary.html) ) the best way to explore the items is through an iterator."
   ]
  },
  {
   "cell_type": "code",
   "execution_count": 10,
   "metadata": {
    "colab": {
     "base_uri": "https://localhost:8080/"
    },
    "id": "JziiKBlKnDqH",
    "outputId": "e3603c30-1504-430c-b021-6e9732b0d4b6",
    "slideshow": {
     "slide_type": "fragment"
    }
   },
   "outputs": [
    {
     "name": "stdout",
     "output_type": "stream",
     "text": [
      "<class 'PIL.Image.Image'>\n"
     ]
    }
   ],
   "source": [
    "# create an iterator to the dataset\n",
    "itr=iter(cifar10_train)\n",
    "img0,label0=next(itr)\n",
    "print(type(img0))"
   ]
  },
  {
   "cell_type": "markdown",
   "metadata": {
    "slideshow": {
     "slide_type": "slide"
    }
   },
   "source": [
    "### Visualizing the images"
   ]
  },
  {
   "cell_type": "code",
   "execution_count": 11,
   "metadata": {
    "colab": {
     "base_uri": "https://localhost:8080/",
     "height": 123
    },
    "id": "EuyZNWfIJmml",
    "outputId": "b9e32003-ec04-4ef0-ce82-def96a49f5c5",
    "slideshow": {
     "slide_type": "fragment"
    }
   },
   "outputs": [
    {
     "data": {
      "text/plain": [
       "<matplotlib.image.AxesImage at 0x7f3e76246f80>"
      ]
     },
     "execution_count": 11,
     "metadata": {},
     "output_type": "execute_result"
    },
    {
     "data": {
      "image/png": "[encoded data removed]",
      "text/plain": [
       "<Figure size 100x100 with 1 Axes>"
      ]
     },
     "metadata": {},
     "output_type": "display_data"
    }
   ],
   "source": [
    "# Plot the first image (a frog) and set the corresponding label as title\n",
    "\n",
    "import matplotlib.pyplot as plt\n",
    "fig=plt.figure()\n",
    "fig.set_size_inches(1,1)\n",
    "p=fig.add_subplot()\n",
    "\n",
    "p.set_title(str(label0))\n",
    "p.axes.get_xaxis().set_visible(False)\n",
    "p.axes.get_yaxis().set_visible(False)\n",
    "plt.imshow(img0)"
   ]
  },
  {
   "cell_type": "markdown",
   "metadata": {
    "id": "pI3ML83Va19K",
    "slideshow": {
     "slide_type": "slide"
    }
   },
   "source": [
    "- In this notebook we will use a \"low level\" way of accessing the data items. \n",
    "- cifar10_train.data is an array of images so cifar10_train.data[0] is the first image\n",
    "- cifar10_train.targets is an array of the corresponding labels so cifar10_train.targets[0] is the first label.\n",
    "\n",
    "- Next we create torch **tensors** from the datasets. \n"
   ]
  },
  {
   "cell_type": "markdown",
   "metadata": {
    "slideshow": {
     "slide_type": "slide"
    }
   },
   "source": [
    "- For now, we think of a torch **tensor** as a multidimensional array.\n",
    "- **Note**: the pixel values are divided by the maximal value (255). \n",
    "- This is often the case to aid with the convergence"
   ]
  },
  {
   "cell_type": "code",
   "execution_count": 12,
   "metadata": {
    "id": "7rOOuE5ra-qC",
    "slideshow": {
     "slide_type": "fragment"
    }
   },
   "outputs": [],
   "source": [
    "img_train=torch.tensor(cifar10_train.data,dtype=torch.float32)/255.\n",
    "img_test=torch.tensor(cifar10_test.data,dtype=torch.float32)/255.\n",
    "label_train=torch.tensor(cifar10_train.targets,dtype=torch.float32)\n",
    "label_test=torch.tensor(cifar10_test.targets,dtype=torch.float32)"
   ]
  },
  {
   "cell_type": "markdown",
   "metadata": {
    "slideshow": {
     "slide_type": "slide"
    }
   },
   "source": [
    "### Binary classification\n",
    "\n",
    "- We simplify the classification problem by reducing the original 10 classes into 2\n",
    "- All \"living\" things: birds,cats,deers,dogs,frogs,horses into one class\n",
    "- The remaining objects into another class"
   ]
  },
  {
   "cell_type": "code",
   "execution_count": 13,
   "metadata": {
    "id": "WuNp40w4vebE",
    "slideshow": {
     "slide_type": "slide"
    }
   },
   "outputs": [],
   "source": [
    "#airplane=0,car=1,bird=2,cat=3,deer=4,dog=5,frog=6,horse=7,ship=8,truck=9\n",
    "features=torch.tensor([0,1,8,9])\n",
    "for i in range(label_train.shape[0]):\n",
    "    if torch.isin(label_train[i],features):\n",
    "        label_train[i]=1\n",
    "    else:\n",
    "        label_train[i]=0\n",
    "\n",
    "for i in range(label_test.shape[0]):\n",
    "    if torch.isin(label_test[i],features):\n",
    "        label_test[i]=1\n",
    "    else:\n",
    "        label_test[i]=0        "
   ]
  },
  {
   "cell_type": "code",
   "execution_count": null,
   "metadata": {
    "slideshow": {
     "slide_type": "fragment"
    }
   },
   "outputs": [],
   "source": [
    "# the dataset is a bit biased\n",
    "torch.count_nonzero(label_train)"
   ]
  },
  {
   "cell_type": "markdown",
   "metadata": {
    "id": "4udcJFDWf8-8",
    "slideshow": {
     "slide_type": "slide"
    }
   },
   "source": [
    "\n",
    "\n",
    "## Logistic Regression\n",
    "\n",
    "- The simplest model for binary classification is Logistic Regression\n",
    "- It can be regarded as the **simplest neural network**, a single \"neuron\". \n",
    "- The input to the network is a vector $x$ of size $n$ \n",
    "- and it feeds a single unit (a neuron or perceptron). \n",
    "- To obtain the output we perform the **dot** product between the matrix of learnable weights $W$ and the input $x$\n",
    "- A bias $b$ is added to the result before\n",
    "- It is fed into some function (usually nonlinear) $f$"
   ]
  },
  {
   "cell_type": "markdown",
   "metadata": {
    "slideshow": {
     "slide_type": "slide"
    }
   },
   "source": [
    "![perceptron.png](data:image/png;base64,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)"
   ]
  },
  {
   "cell_type": "markdown",
   "metadata": {
    "slideshow": {
     "slide_type": "slide"
    }
   },
   "source": [
    "- To distinguish between the \"true\" labels and the ouput of the network\n",
    "    - We label the output by $\\hat{y}$\n",
    "- Then the relationship between input $x$ and output $\\hat{y}$ is given by\n",
    "$$\n",
    "\\begin{align*}\n",
    "z&=\\sum_iw_i\\cdot x_i+b\\\\\n",
    "\\hat{y}(x)&=f(z)\n",
    "\\end{align*}\n",
    "$$\n"
   ]
  },
  {
   "cell_type": "markdown",
   "metadata": {
    "slideshow": {
     "slide_type": "slide"
    }
   },
   "source": [
    "- The input and _f_ are **known** whereas _W_ and _b_ are parameters to be determined. \n",
    "- Our goal is to find the _optimal_ _W_ and _b_ such that the output is as *close as possible* to the label associated with the input.\n",
    "- How is **as close as possible** defined? \n",
    "- The dataset is usually a set of pairs $(x,y)$. We define the loss as the **deviation** between the label $y$ and the result $\\hat{y}=f(z)$\n",
    "\n",
    "$$loss=\\mathcal{L}_{w,b}(y,\\hat{y})$$\n",
    "\n",
    "- The function $\\mathcal{L}$ depends on depends on the parameters $w,b$. \n",
    "- Our goal is to find the **optimal** $w,b$ such that the loss is minimal. "
   ]
  },
  {
   "cell_type": "markdown",
   "metadata": {
    "id": "Wha5x_KeRHkw",
    "slideshow": {
     "slide_type": "slide"
    }
   },
   "source": [
    "### Sigmoid\n",
    "\n",
    "- So far we have not specified the function _f_ that our  model depends on $\\hat{y}=f(z)$. \n",
    "- A commonly used function for binary classification isthe **sigmoid** function. \n",
    "$$\n",
    "\\begin{align*}\n",
    "\\sigma=\\frac{1}{1+e^{-z}}\n",
    "\\end{align*}\n",
    "$$\n",
    "\n",
    "\n"
   ]
  },
  {
   "cell_type": "markdown",
   "metadata": {
    "slideshow": {
     "slide_type": "slide"
    }
   },
   "source": [
    "- The range of $\\sigma$ go from 0 to 1 which we interpret as a probability. "
   ]
  },
  {
   "cell_type": "code",
   "execution_count": 16,
   "metadata": {
    "colab": {
     "base_uri": "https://localhost:8080/",
     "height": 265
    },
    "id": "wAe6yJrBRN_1",
    "outputId": "7bd84e2d-f3f9-44e0-f6b9-d6565aaff745",
    "slideshow": {
     "slide_type": "fragment"
    }
   },
   "outputs": [
    {
     "data": {
      "image/png": "[encoded data removed]",
      "text/plain": [
       "<Figure size 640x480 with 1 Axes>"
      ]
     },
     "metadata": {},
     "output_type": "display_data"
    }
   ],
   "source": [
    "import numpy as np\n",
    "z=[1/(1+np.exp(-x)) for x in range(-10,11)]\n",
    "plt.plot([x for x in range(-10,11)],z)\n",
    "plt.xticks([t for t in range(-10,11,2)])\n",
    "plt.show()"
   ]
  },
  {
   "cell_type": "markdown",
   "metadata": {
    "slideshow": {
     "slide_type": "slide"
    }
   },
   "source": [
    "### Loss function\n",
    "\n",
    "- For binary classificaton the loss function is the **binary cross entropy**\n",
    "- Given $y$ and $\\hat{y}$ as the \"true\" and output labels the BCE is given by\n",
    "$$\n",
    "\\mathcal{L}=-\\frac{1}{n}\\sum_{i=1}^n y\\log(\\hat{y})+(1-y)\\log(1-\\hat{y})\n",
    "$$\n",
    "- Note that since $\\hat{y}$ depends on $w$ and $b$ so does $\\mathcal{L}$"
   ]
  },
  {
   "cell_type": "markdown",
   "metadata": {
    "id": "_vMc-jV9pIcd",
    "slideshow": {
     "slide_type": "slide"
    }
   },
   "source": [
    "### Flatening the images\n",
    "\n",
    "- The CIFAR10 images have dimensions (3,32,32) (3 channels, 32 height,32 width). \n",
    "- To use them as inputs to the network we need to create a vector of dimension 3x32x32\n",
    "- i.e. flatten them"
   ]
  },
  {
   "cell_type": "code",
   "execution_count": 14,
   "metadata": {
    "id": "UvukYwIicPqx",
    "slideshow": {
     "slide_type": "fragment"
    }
   },
   "outputs": [
    {
     "name": "stdout",
     "output_type": "stream",
     "text": [
      "torch.Size([50000, 3072])\n"
     ]
    }
   ],
   "source": [
    "dim=3*32*32\n",
    "train_samples=50000\n",
    "test_samples=10000\n",
    "img_train=img_train.reshape(train_samples,dim)\n",
    "img_test=img_test.reshape(test_samples,dim)\n",
    "print(img_train.shape)"
   ]
  },
  {
   "cell_type": "markdown",
   "metadata": {
    "id": "08C4C1wUcyQv",
    "slideshow": {
     "slide_type": "slide"
    }
   },
   "source": [
    "### Computing the gradient\n",
    "\n",
    "- When using PyTorch, a explicit form for the gradient is not necessary. - PyTorch can compute the gradient of any loss function with respect to the parameters using the ```autograd.grad``` function ([docs](https://pytorch.org/docs/stable/generated/torch.autograd.grad.html)).\n",
    "\n",
    "- Also, the tensors with respect to which we need to compute the gradient (parameters), should have```requires_grad=True```\n"
   ]
  },
  {
   "cell_type": "markdown",
   "metadata": {
    "slideshow": {
     "slide_type": "slide"
    }
   },
   "source": [
    "## Example"
   ]
  },
  {
   "cell_type": "code",
   "execution_count": null,
   "metadata": {
    "slideshow": {
     "slide_type": "fragment"
    }
   },
   "outputs": [],
   "source": [
    "# some simple example for autograd"
   ]
  },
  {
   "cell_type": "code",
   "execution_count": null,
   "metadata": {
    "colab": {
     "base_uri": "https://localhost:8080/"
    },
    "id": "z1V2d5mOt5FK",
    "outputId": "2540c419-4032-4025-da91-b99630fb3fc1",
    "slideshow": {
     "slide_type": "slide"
    }
   },
   "outputs": [],
   "source": []
  },
  {
   "cell_type": "markdown",
   "metadata": {
    "id": "r-VxiVGnp2LC",
    "slideshow": {
     "slide_type": "slide"
    }
   },
   "source": [
    "### Initializing the parameters\n",
    "- Our goal is to find the **optimal** values for the parameters: weights and bias. \n",
    "- Intially we give them random values (for weights) and 0 for the bias as shown below. \n",
    "- Note two things\n",
    "1. We divide the initial values of the weights by the total number of samples to minimize the possibility of divergence.\n",
    "1. The `reguires_grad` declares a tensor to be a variable, i.e. we need the derivative. \n",
    "1. In previous versions of Pytorch one needed to declare variables explicitly but this is deprecated now. See [here](https://pytorch.org/docs/stable/autograd.html#variable-deprecated)"
   ]
  },
  {
   "cell_type": "code",
   "execution_count": null,
   "metadata": {
    "id": "koYSysX4gKjr",
    "slideshow": {
     "slide_type": "slide"
    }
   },
   "outputs": [],
   "source": [
    "weights=torch.rand(dim,requires_grad=True,dtype=torch.float32)\n",
    "weights.data/=train_samples\n",
    "bias=torch.tensor(0.,requires_grad=True,dtype=torch.float32)"
   ]
  },
  {
   "cell_type": "markdown",
   "metadata": {
    "id": "1Z9ssRJxX6iw",
    "slideshow": {
     "slide_type": "slide"
    }
   },
   "source": [
    "### Optimization loop"
   ]
  },
  {
   "cell_type": "code",
   "execution_count": null,
   "metadata": {
    "colab": {
     "base_uri": "https://localhost:8080/"
    },
    "id": "WwNpWU0RoMbi",
    "outputId": "6ac6e73c-d241-4ba9-b883-95c8c413d23b",
    "slideshow": {
     "slide_type": "fragment"
    }
   },
   "outputs": [],
   "source": [
    "# learning rate\n",
    "rate=0.015\n",
    "# for 0-1 classification we use the binary cross entropy loss\n",
    "loss_fn=torch.nn.BCELoss()\n",
    "\n",
    "for i in range(1000):\n",
    "  y_hat=torch.matmul(img_train,weights)+bias\n",
    "  y_hat=torch.sigmoid(y_hat)\n",
    "  loss=loss_fn(y_hat.squeeze(),label_train)\n",
    " # compute the gradient wrt weights and bias\n",
    "  dw,db=torch.autograd.grad(loss,[weights,bias])\n",
    "  #update the weights and bias\n",
    "  weights.data-=rate*dw\n",
    "  bias.data-=rate*db\n",
    "\n",
    "  if(i%100==0):\n",
    "    print(\"loss {:.4f}\".format(loss.item()))"
   ]
  },
  {
   "cell_type": "markdown",
   "metadata": {
    "id": "IJGEPlrz5l0U",
    "slideshow": {
     "slide_type": "slide"
    }
   },
   "source": [
    "## Prediction on the test data\n",
    "\n",
    "- An important measure of any ML method is how well it \"generalizes\". \n",
    "- This is done by using the trained model on test data, i.e. other than the data it was trained on. \n",
    "- To do that we note that the output of our model is the probability that the input is a \"machine\", which could be any value between 0 and 1.\n",
    "- The test labels are discrete values of 0 and 1 so how do we compare them? \n",
    "- We regard a probability $\\ge 0.5$ to be 1 and $< 0.5$ to be 0"
   ]
  },
  {
   "cell_type": "code",
   "execution_count": null,
   "metadata": {
    "id": "XttSuF7xuVom",
    "slideshow": {
     "slide_type": "slide"
    }
   },
   "outputs": [],
   "source": [
    "def predict(X):\n",
    "    # m is the number of samples\n",
    "    m = X.size()[0]\n",
    "    # initialize the prediction variable\n",
    "    label_prediction = torch.zeros(m,1)\n",
    "    \n",
    "    # Compute vector \"y_hat\" predicting\n",
    "    # the probabilities of a machine being present in the picture\n",
    "    \n",
    "    y_hat=torch.matmul(X,weights)+bias\n",
    "    y_hat=torch.sigmoid(y_hat)\n",
    "    # loop over all samples\n",
    "    for i in range(y_hat.size()[0]):    \n",
    "        # Convert probabilities y_hat[0,i] to actual predictions \n",
    "        #if y_hat[i]>=0.5:\n",
    "        if y_hat[i]>=0.5:\n",
    "            label_prediction[i]=1\n",
    "        else:\n",
    "            label_prediction[i]=0\n",
    "    \n",
    "\n",
    "    return label_prediction"
   ]
  },
  {
   "cell_type": "code",
   "execution_count": null,
   "metadata": {
    "colab": {
     "base_uri": "https://localhost:8080/"
    },
    "id": "2LDDffgKuv5P",
    "outputId": "bad51cce-ea84-49a1-c83c-df047d7cddaf",
    "slideshow": {
     "slide_type": "slide"
    }
   },
   "outputs": [],
   "source": [
    "label_prediction_test = predict(img_test).squeeze()\n",
    "label_prediction_train = predict(img_train).squeeze()\n",
    "print(\"train accuracy:\"+str((100 - torch.mean(torch.abs(label_prediction_train - label_train)) * 100)))\n",
    "print(\"test accuracy:\"+str((100 - torch.mean(torch.abs(label_prediction_test - label_test)) * 100)))"
   ]
  },
  {
   "cell_type": "markdown",
   "metadata": {
    "id": "qdCBzLnqc6tO",
    "slideshow": {
     "slide_type": "slide"
    }
   },
   "source": [
    "## Using Pytorch\n",
    "\n",
    "- The model used in this notebook is simple enough to code directly. \n",
    "- We only needed Pytorch to compute the gradients. \n",
    "- When more complicated models are used this process becomes unwieldy.\n",
    "- We can use Pytorch to abstract away the details.  \n"
   ]
  },
  {
   "cell_type": "markdown",
   "metadata": {
    "id": "E1baF5ll16Q3",
    "slideshow": {
     "slide_type": "slide"
    }
   },
   "source": [
    "### The model\n",
    "\n",
    "- Models in PyTorch **inherit** from ```torch.nn.Module```\n",
    "- All we need to do is **override** two methods:\n",
    "\n",
    "1. ```__init__```. As you would have guess this is called when the object is constructed to initialize our model\n",
    "1. ``` forward```. This is called everytime a forward computation is needed"
   ]
  },
  {
   "cell_type": "code",
   "execution_count": null,
   "metadata": {
    "id": "5LlED-xrgbiJ",
    "slideshow": {
     "slide_type": "slide"
    }
   },
   "outputs": [],
   "source": [
    "\n",
    "import torch.nn as nn\n",
    "\n",
    "class Net(nn.Module):\n",
    "  def __init__(self,in_features,out_features):\n",
    "    super(Net, self).__init__()\n",
    "    self.input_size=in_features\n",
    "    self.output_size=out_features\n",
    "    # declaring weights and bias as parameters so that they are included\n",
    "    # in the return value of .parameters()\n",
    "    self.weights=nn.Parameter(torch.rand(in_features,requires_grad=True,dtype=torch.float32))\n",
    "    self.weights.data/=in_features\n",
    "    self.bias=nn.Parameter(torch.tensor(0.,requires_grad=True,dtype=torch.float32))\n",
    "    #self.layer=nn.Linear(self.input_size,self.output_size,bias=True)\n",
    "  def forward(self,input):  \n",
    "    y_hat=torch.matmul(input,self.weights)+self.bias\n",
    "    y_hat=torch.sigmoid(y_hat)\n",
    "    return y_hat"
   ]
  },
  {
   "cell_type": "markdown",
   "metadata": {
    "id": "Tm160c2I23J3",
    "slideshow": {
     "slide_type": "slide"
    }
   },
   "source": [
    "- Note that in the initialization, the weights and bias are constructed as ```Parameter```. \n",
    "- This is so that we can use the ```.parameters()``` call and pass it to the optimizer.\n",
    "- Next we create an instance of the model"
   ]
  },
  {
   "cell_type": "code",
   "execution_count": null,
   "metadata": {
    "id": "Y9_n6Y2N00Io",
    "slideshow": {
     "slide_type": "slide"
    }
   },
   "outputs": [],
   "source": [
    "model=Net(dim,1)"
   ]
  },
  {
   "cell_type": "markdown",
   "metadata": {
    "id": "KKkSOrAn35u5",
    "slideshow": {
     "slide_type": "slide"
    }
   },
   "source": [
    "Recall that each learning iteration performs a number of steps. \n",
    "1. Compute the forward pass over the input to get the output. \n",
    "    - This is now done using ```model.forward()``` indirectly by calling ```model(input)```\n",
    "1. Compute the loss using an appropriate loss function. \n",
    "1. Compute the gradients. \n",
    "  "
   ]
  },
  {
   "cell_type": "markdown",
   "metadata": {
    "slideshow": {
     "slide_type": "slide"
    }
   },
   "source": [
    "- Now we use ```loss.backward()```. \n",
    "   - Not only it computes the gradients but saves those values in the parameters themselves. \n",
    "   - For example, if ```p``` is a parameters then ```loss.backward()```  computes the gradient and saves it in ```p.grad```\n",
    "- Update the parameters. \n",
    "   - This is done by the optimizer using ```optimizer.step()```. \n",
    "   - This is important since later on we will use optimizers that use a different strategy to update the parameters."
   ]
  },
  {
   "cell_type": "code",
   "execution_count": null,
   "metadata": {
    "colab": {
     "base_uri": "https://localhost:8080/"
    },
    "id": "8L9FtlGbz1S3",
    "outputId": "a8377b80-f564-4d1b-dfef-eeabdfdeeaeb",
    "slideshow": {
     "slide_type": "slide"
    }
   },
   "outputs": [],
   "source": [
    "rate=0.015\n",
    "\n",
    "import torch.optim as optim\n",
    "optimizer=optim.SGD(model.parameters(),lr=rate)\n",
    "loss_fn=torch.nn.BCELoss()\n",
    "\n",
    "for i in range(1000):\n",
    "  # uses the .forward() method to get y_hat\n",
    "  y_hat=model(img_train)\n",
    "  # as before\n",
    "  loss=loss_fn(y_hat.squeeze(),label_train)\n",
    "  # Computes the gradients and saves them in the appropriate .grad\n",
    "  loss.backward()\n",
    "  # updates the parameters using the computed .grad\n",
    "  optimizer.step()\n",
    "  # zero the .grad values so that they don't accumulate\n",
    "  optimizer.zero_grad()\n",
    "  if(i%100==0):\n",
    "    print(\"loss {:.4f}\".format(loss.item()))"
   ]
  }
 ],
 "metadata": {
  "celltoolbar": "Slideshow",
  "colab": {
   "authorship_tag": "ABX9TyNuNqO6ce7qryqS+HxdL/2J",
   "include_colab_link": true,
   "provenance": []
  },
  "kernelspec": {
   "display_name": "Python 3 (ipykernel)",
   "language": "python",
   "name": "python3"
  },
  "language_info": {
   "codemirror_mode": {
    "name": "ipython",
    "version": 3
   },
   "file_extension": ".py",
   "mimetype": "text/x-python",
   "name": "python",
   "nbconvert_exporter": "python",
   "pygments_lexer": "ipython3",
   "version": "3.10.6"
  },
  "vscode": {
   "interpreter": {
    "hash": "916dbcbb3f70747c44a77c7bcd40155683ae19c65e1c03b4aa3499c5328201f1"
   }
  },
  "widgets": {
   "application/vnd.jupyter.widget-state+json": {
    "10a2f8fa1176415eb1427954d02ac81e": {
     "model_module": "@jupyter-widgets/base",
     "model_module_version": "1.2.0",
     "model_name": "LayoutModel",
     "state": {
      "_model_module": "@jupyter-widgets/base",
      "_model_module_version": "1.2.0",
      "_model_name": "LayoutModel",
      "_view_count": null,
      "_view_module": "@jupyter-widgets/base",
      "_view_module_version": "1.2.0",
      "_view_name": "LayoutView",
      "align_content": null,
      "align_items": null,
      "align_self": null,
      "border": null,
      "bottom": null,
      "display": null,
      "flex": null,
      "flex_flow": null,
      "grid_area": null,
      "grid_auto_columns": null,
      "grid_auto_flow": null,
      "grid_auto_rows": null,
      "grid_column": null,
      "grid_gap": null,
      "grid_row": null,
      "grid_template_areas": null,
      "grid_template_columns": null,
      "grid_template_rows": null,
      "height": null,
      "justify_content": null,
      "justify_items": null,
      "left": null,
      "margin": null,
      "max_height": null,
      "max_width": null,
      "min_height": null,
      "min_width": null,
      "object_fit": null,
      "object_position": null,
      "order": null,
      "overflow": null,
      "overflow_x": null,
      "overflow_y": null,
      "padding": null,
      "right": null,
      "top": null,
      "visibility": null,
      "width": null
     }
    },
    "1fe3e0a792204b568fdeada38bff559a": {
     "model_module": "@jupyter-widgets/controls",
     "model_module_version": "1.5.0",
     "model_name": "ProgressStyleModel",
     "state": {
      "_model_module": "@jupyter-widgets/controls",
      "_model_module_version": "1.5.0",
      "_model_name": "ProgressStyleModel",
      "_view_count": null,
      "_view_module": "@jupyter-widgets/base",
      "_view_module_version": "1.2.0",
      "_view_name": "StyleView",
      "bar_color": null,
      "description_width": ""
     }
    },
    "716eed7ac5b242b1a43d095c0376fdfd": {
     "model_module": "@jupyter-widgets/controls",
     "model_module_version": "1.5.0",
     "model_name": "HTMLModel",
     "state": {
      "_dom_classes": [],
      "_model_module": "@jupyter-widgets/controls",
      "_model_module_version": "1.5.0",
      "_model_name": "HTMLModel",
      "_view_count": null,
      "_view_module": "@jupyter-widgets/controls",
      "_view_module_version": "1.5.0",
      "_view_name": "HTMLView",
      "description": "",
      "description_tooltip": null,
      "layout": "IPY_MODEL_eff7dac6203a4409bd25e5a0fafbfe5f",
      "placeholder": "​",
      "style": "IPY_MODEL_ffe956b562a148a9abb63f496ce91030",
      "value": " 170498071/170498071 [00:02&lt;00:00, 73485295.02it/s]"
     }
    },
    "9daf573e127d45b0a13d392d625f6dd7": {
     "model_module": "@jupyter-widgets/controls",
     "model_module_version": "1.5.0",
     "model_name": "HBoxModel",
     "state": {
      "_dom_classes": [],
      "_model_module": "@jupyter-widgets/controls",
      "_model_module_version": "1.5.0",
      "_model_name": "HBoxModel",
      "_view_count": null,
      "_view_module": "@jupyter-widgets/controls",
      "_view_module_version": "1.5.0",
      "_view_name": "HBoxView",
      "box_style": "",
      "children": [
       "IPY_MODEL_df2a9b2f02d2434682d4ca213568fbc9",
       "IPY_MODEL_ffce6ae3a0f14491a4690ddec0df4674",
       "IPY_MODEL_716eed7ac5b242b1a43d095c0376fdfd"
      ],
      "layout": "IPY_MODEL_10a2f8fa1176415eb1427954d02ac81e"
     }
    },
    "c25206d0d8be44e3b18028c61228dbd4": {
     "model_module": "@jupyter-widgets/base",
     "model_module_version": "1.2.0",
     "model_name": "LayoutModel",
     "state": {
      "_model_module": "@jupyter-widgets/base",
      "_model_module_version": "1.2.0",
      "_model_name": "LayoutModel",
      "_view_count": null,
      "_view_module": "@jupyter-widgets/base",
      "_view_module_version": "1.2.0",
      "_view_name": "LayoutView",
      "align_content": null,
      "align_items": null,
      "align_self": null,
      "border": null,
      "bottom": null,
      "display": null,
      "flex": null,
      "flex_flow": null,
      "grid_area": null,
      "grid_auto_columns": null,
      "grid_auto_flow": null,
      "grid_auto_rows": null,
      "grid_column": null,
      "grid_gap": null,
      "grid_row": null,
      "grid_template_areas": null,
      "grid_template_columns": null,
      "grid_template_rows": null,
      "height": null,
      "justify_content": null,
      "justify_items": null,
      "left": null,
      "margin": null,
      "max_height": null,
      "max_width": null,
      "min_height": null,
      "min_width": null,
      "object_fit": null,
      "object_position": null,
      "order": null,
      "overflow": null,
      "overflow_x": null,
      "overflow_y": null,
      "padding": null,
      "right": null,
      "top": null,
      "visibility": null,
      "width": null
     }
    },
    "c49c0f939d094f8bb00e028bcae134cb": {
     "model_module": "@jupyter-widgets/controls",
     "model_module_version": "1.5.0",
     "model_name": "DescriptionStyleModel",
     "state": {
      "_model_module": "@jupyter-widgets/controls",
      "_model_module_version": "1.5.0",
      "_model_name": "DescriptionStyleModel",
      "_view_count": null,
      "_view_module": "@jupyter-widgets/base",
      "_view_module_version": "1.2.0",
      "_view_name": "StyleView",
      "description_width": ""
     }
    },
    "df2a9b2f02d2434682d4ca213568fbc9": {
     "model_module": "@jupyter-widgets/controls",
     "model_module_version": "1.5.0",
     "model_name": "HTMLModel",
     "state": {
      "_dom_classes": [],
      "_model_module": "@jupyter-widgets/controls",
      "_model_module_version": "1.5.0",
      "_model_name": "HTMLModel",
      "_view_count": null,
      "_view_module": "@jupyter-widgets/controls",
      "_view_module_version": "1.5.0",
      "_view_name": "HTMLView",
      "description": "",
      "description_tooltip": null,
      "layout": "IPY_MODEL_fc2f840078b44934a9a0a972b2d1a6aa",
      "placeholder": "​",
      "style": "IPY_MODEL_c49c0f939d094f8bb00e028bcae134cb",
      "value": "100%"
     }
    },
    "eff7dac6203a4409bd25e5a0fafbfe5f": {
     "model_module": "@jupyter-widgets/base",
     "model_module_version": "1.2.0",
     "model_name": "LayoutModel",
     "state": {
      "_model_module": "@jupyter-widgets/base",
      "_model_module_version": "1.2.0",
      "_model_name": "LayoutModel",
      "_view_count": null,
      "_view_module": "@jupyter-widgets/base",
      "_view_module_version": "1.2.0",
      "_view_name": "LayoutView",
      "align_content": null,
      "align_items": null,
      "align_self": null,
      "border": null,
      "bottom": null,
      "display": null,
      "flex": null,
      "flex_flow": null,
      "grid_area": null,
      "grid_auto_columns": null,
      "grid_auto_flow": null,
      "grid_auto_rows": null,
      "grid_column": null,
      "grid_gap": null,
      "grid_row": null,
      "grid_template_areas": null,
      "grid_template_columns": null,
      "grid_template_rows": null,
      "height": null,
      "justify_content": null,
      "justify_items": null,
      "left": null,
      "margin": null,
      "max_height": null,
      "max_width": null,
      "min_height": null,
      "min_width": null,
      "object_fit": null,
      "object_position": null,
      "order": null,
      "overflow": null,
      "overflow_x": null,
      "overflow_y": null,
      "padding": null,
      "right": null,
      "top": null,
      "visibility": null,
      "width": null
     }
    },
    "fc2f840078b44934a9a0a972b2d1a6aa": {
     "model_module": "@jupyter-widgets/base",
     "model_module_version": "1.2.0",
     "model_name": "LayoutModel",
     "state": {
      "_model_module": "@jupyter-widgets/base",
      "_model_module_version": "1.2.0",
      "_model_name": "LayoutModel",
      "_view_count": null,
      "_view_module": "@jupyter-widgets/base",
      "_view_module_version": "1.2.0",
      "_view_name": "LayoutView",
      "align_content": null,
      "align_items": null,
      "align_self": null,
      "border": null,
      "bottom": null,
      "display": null,
      "flex": null,
      "flex_flow": null,
      "grid_area": null,
      "grid_auto_columns": null,
      "grid_auto_flow": null,
      "grid_auto_rows": null,
      "grid_column": null,
      "grid_gap": null,
      "grid_row": null,
      "grid_template_areas": null,
      "grid_template_columns": null,
      "grid_template_rows": null,
      "height": null,
      "justify_content": null,
      "justify_items": null,
      "left": null,
      "margin": null,
      "max_height": null,
      "max_width": null,
      "min_height": null,
      "min_width": null,
      "object_fit": null,
      "object_position": null,
      "order": null,
      "overflow": null,
      "overflow_x": null,
      "overflow_y": null,
      "padding": null,
      "right": null,
      "top": null,
      "visibility": null,
      "width": null
     }
    },
    "ffce6ae3a0f14491a4690ddec0df4674": {
     "model_module": "@jupyter-widgets/controls",
     "model_module_version": "1.5.0",
     "model_name": "FloatProgressModel",
     "state": {
      "_dom_classes": [],
      "_model_module": "@jupyter-widgets/controls",
      "_model_module_version": "1.5.0",
      "_model_name": "FloatProgressModel",
      "_view_count": null,
      "_view_module": "@jupyter-widgets/controls",
      "_view_module_version": "1.5.0",
      "_view_name": "ProgressView",
      "bar_style": "success",
      "description": "",
      "description_tooltip": null,
      "layout": "IPY_MODEL_c25206d0d8be44e3b18028c61228dbd4",
      "max": 170498071,
      "min": 0,
      "orientation": "horizontal",
      "style": "IPY_MODEL_1fe3e0a792204b568fdeada38bff559a",
      "value": 170498071
     }
    },
    "ffe956b562a148a9abb63f496ce91030": {
     "model_module": "@jupyter-widgets/controls",
     "model_module_version": "1.5.0",
     "model_name": "DescriptionStyleModel",
     "state": {
      "_model_module": "@jupyter-widgets/controls",
      "_model_module_version": "1.5.0",
      "_model_name": "DescriptionStyleModel",
      "_view_count": null,
      "_view_module": "@jupyter-widgets/base",
      "_view_module_version": "1.2.0",
      "_view_name": "StyleView",
      "description_width": ""
     }
    }
   }
  }
 },
 "nbformat": 4,
 "nbformat_minor": 1
}
