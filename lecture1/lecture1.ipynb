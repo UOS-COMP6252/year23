{
 "cells": [
  {
   "cell_type": "markdown",
   "metadata": {
    "slideshow": {
     "slide_type": "slide"
    }
   },
   "source": [
    "# COMP6252-Lecture1\n",
    "\n",
    "In this lecture we introduce basic concepts that will be used throughout COMP6252. This is done with the help of the simplest model. In this session you will learn\n",
    "\n",
    "1. Describe supervised Learning\n",
    "1. Explain the role of loss functions in learning\n",
    "1. Apply the method of gradient descent"
   ]
  },
  {
   "cell_type": "markdown",
   "metadata": {
    "slideshow": {
     "slide_type": "slide"
    }
   },
   "source": [
    "## Prerequisites\n",
    "\n",
    "This session assumes that you are familiar with basic calculus and Python. A good introduction to Python can be found in [this tutorial](https://docs.python.org/3/tutorial/)"
   ]
  },
  {
   "cell_type": "markdown",
   "metadata": {
    "slideshow": {
     "slide_type": "slide"
    }
   },
   "source": [
    "## Supervised Learning\n",
    "\n",
    "- Given a set of $n$ observations $\\{(x_i,y_i),i=0,\\ldots,n-1\\}$, where $x$ and $y$ are the independent/dependent (possibly multidimensional) variables respectively. \n",
    "\n",
    "- Regression problem: the $y_i$'s are values in some subset of $R^n$, \n",
    "- Classification problem: the $y_i$'s are labels in a discrete set $\\{1\\ldots n\\}$, \n",
    "\n",
    "- In both problems our goal is to find the correct $y$ for an arbitrary $x$\n",
    "\n"
   ]
  },
  {
   "cell_type": "markdown",
   "metadata": {
    "slideshow": {
     "slide_type": "slide"
    }
   },
   "source": [
    "## Supervised Learning\n",
    "- Assumption: there is some **unknown** function $h$ that maps the values of $x$ to values of $y=h(x)$ \n",
    "\n",
    "- Our task is to find an **approximation** for $h$.\n",
    "\n",
    "- Simplest approximation for  $h$ is a linear(in the unknown parameters) function $f(x)=\\sum_k\\beta_k\\phi_k(x)$ \n",
    "- $\\beta_k$ are parameters to be determined and $\\phi_k$'s are **known** functions.\n",
    "- Example: for a straight line, $\\phi_0(x)=1$,$\\phi_1(x)=x$ and we need to determine the **best** values of $\\beta_0$ and $\\beta_1$."
   ]
  },
  {
   "cell_type": "markdown",
   "metadata": {
    "slideshow": {
     "slide_type": "slide"
    }
   },
   "source": [
    "## Linear Regression\n",
    "\n",
    "- In this notebook we introduce linear regression. \n",
    "- The model is simple and we can obtain a closed form solution \n",
    "- makes an excellent example to illustrate concepts that will be used in the remainder of this module."
   ]
  },
  {
   "cell_type": "markdown",
   "metadata": {
    "slideshow": {
     "slide_type": "slide"
    }
   },
   "source": [
    "### Loss\n",
    "\n",
    "- The best values for the parameters are the ones that give us $y$ as close as possible to the observed values. \n",
    "- One option is to choose the parameters that give us the **smallest** mean square error\n",
    "\n",
    "\\begin{align*}\n",
    "\\mathcal{L}=\\frac{1}{n}\\sum_i\\left(y_i -f(x_i)\\right)^2\n",
    "\\end{align*}\n",
    "\n",
    "\n"
   ]
  },
  {
   "cell_type": "markdown",
   "metadata": {
    "slideshow": {
     "slide_type": "slide"
    }
   },
   "source": [
    "## Minimal loss\n",
    "- The minimum occurs when the derivative is zero. \n",
    "- Therefore, the best value for the parameters are the ones that make the derivative of the loss function zero. \n",
    "- To find the best values for $\\beta$ we need to solve the equation:\n",
    "\n",
    "\\begin{align*}\n",
    "\\frac{\\partial\\mathcal{L}}{\\partial\\beta}=0\n",
    "\\end{align*}\n"
   ]
  },
  {
   "cell_type": "markdown",
   "metadata": {
    "slideshow": {
     "slide_type": "slide"
    }
   },
   "source": [
    "\n",
    "- Fortunately, for this simple model, we can obtain a solution in closed form\n",
    "$$\n",
    "\\begin{align*}\n",
    "\\frac{\\partial L}{\\partial \\beta}=-2\\Phi y+2\\Phi(\\Phi^T\\beta)\n",
    "\\end{align*}$$\n",
    "Where $\\Phi_{ki}=\\phi_k(x_i)$. The solution is\n",
    "\n",
    "$$\\begin{align*}\\beta=(\\Phi\\Phi^T)^{-1}\\Phi y\\end{align*}$$\n",
    "\n",
    "\n",
    "- Recall that\n",
    "\n",
    "$$f(x)=\\sum_k\\beta_k\\phi_k(x)$$ \n",
    "\n",
    "\n"
   ]
  },
  {
   "cell_type": "markdown",
   "metadata": {
    "slideshow": {
     "slide_type": "slide"
    }
   },
   "source": [
    "\n",
    "\n",
    "### Special case: line model\n",
    "\n",
    "- Special case, the model is a straight line, i.e. \n",
    "\n",
    "$$f(x)=\\beta_0+\\beta_1 x$$\n",
    "- With   $\\phi_0(x_i)=1$, $\\phi_1(x_i)=x_i$. Therefore the matrix $\\Phi$ becomes:\n",
    "\n",
    "\\begin{bmatrix} 1 & 1 & \\ldots & 1 \\\\ \n",
    "   x_0 & x_1 & \\ldots & x_{n-1}\n",
    "\\end{bmatrix}\n"
   ]
  },
  {
   "cell_type": "markdown",
   "metadata": {
    "slideshow": {
     "slide_type": "skip"
    }
   },
   "source": [
    "\n",
    "**Optional**: If you are interested in how the above result was obtained click on the arrow below.\n",
    "\n",
    "<details>\n",
    "<summary>Click here</summary>\n",
    "Assume that the model is linear:\n",
    "\n",
    "$$f(x,\\beta)=\\sum_k\\beta_k\\phi_k(x)$$\n",
    "\n",
    "Then the loss function can be written as \n",
    "$$\\begin{align*} L&=\\sum_i \\left(y_i-f(x_i)\\right)^2\\\\&=\\sum_i\\left(y_i-\\sum_k\\beta_k\\phi_k(x_i)\\right)^2\\end{align*}$$\n",
    "taking the derivative with respect to parameter $\\beta_l$ we get\n",
    "$$\\begin{align*}\\frac{\\partial L}{\\partial\\beta_l}&=\\\\\n",
    "&=2\\sum_i\\left(\\ y_i\\sum_k\\beta_k\\phi_k(z_i)\\right)\\frac{\\partial}{\\partial\\beta_l}\\left(y_i-\\sum_k\\beta_k\\phi_k(x_i)\\right)\\\\\n",
    "&=-2\\sum_i\\left(y_i -\\sum_k\\beta_k\\phi_k(x_i)\\right)\\phi_l(x_i)\\\\\n",
    "&=-2\\sum_iy_i\\phi_l(x_i)+2\\sum_i\\phi_l(x_i)\\sum_k\\beta_k\\phi_k(x_i)\n",
    "\\end{align*}$$\n",
    "\n",
    "To write the above in matrix form let $\\Phi_{ki}=\\phi_k(x_i)$ then\n",
    "    \n",
    "$$\n",
    "\\begin{align*}\n",
    "\\frac{\\partial L}{\\partial \\beta_l}=-2\\Phi y+2\\Phi(\\Phi^T\\beta)\n",
    "\\end{align*}$$\n",
    "    \n",
    "    \n",
    "setting the derivatives to zero we finally get\n",
    "$$\\Phi y=\\Phi(\\Phi^T\\beta)$$\n",
    "and solving for $\\beta$\n",
    "$$\\beta=(\\Phi\\Phi^T)^{-1}\\Phi y$$\n",
    "\n",
    "</details>"
   ]
  },
  {
   "cell_type": "markdown",
   "metadata": {
    "slideshow": {
     "slide_type": "slide"
    }
   },
   "source": [
    "## Implementation in Python\n",
    "\n",
    "- In this section the special case of the straight line model is implemented in Python.\n"
   ]
  },
  {
   "cell_type": "markdown",
   "metadata": {
    "slideshow": {
     "slide_type": "slide"
    }
   },
   "source": [
    "- Create a set of random points with a linear trend"
   ]
  },
  {
   "cell_type": "code",
   "execution_count": null,
   "metadata": {
    "slideshow": {
     "slide_type": "fragment"
    }
   },
   "outputs": [],
   "source": [
    "import numpy as np\n",
    "import matplotlib.pyplot as plt\n",
    "# Use list comprehension to generate 20 equidistant points\n",
    "x=np.array([ i for i in range (1,20)])\n",
    "# scale the x points\n",
    "x=x/np.max(x)\n",
    "# choose arbitrary slope and intercept\n",
    "a,b=5.0,3.0\n",
    "# generate y from x using a straight line, with some random noise\n",
    "# use a slope of a (i.e. beta1) and intercept  of b (i.e. beta0)\n",
    "y=np.array([a*z+np.random.uniform()+b for z in x])"
   ]
  },
  {
   "cell_type": "code",
   "execution_count": null,
   "metadata": {
    "scrolled": true,
    "slideshow": {
     "slide_type": "slide"
    }
   },
   "outputs": [],
   "source": [
    "plt.plot(x,y,'o')\n",
    "plt.xlim([0,1.1])\n",
    "plt.ylim([np.min(y)-1,np.max(y)+1])\n",
    "plt.show()"
   ]
  },
  {
   "cell_type": "markdown",
   "metadata": {
    "slideshow": {
     "slide_type": "slide"
    }
   },
   "source": [
    "- recall that\n",
    "\n",
    "$$\n",
    "\\Phi=\\begin{bmatrix} 1 & 1 & \\ldots & 1 \\\\ \n",
    "   x_0 & x_1 & \\ldots & x_{n-1}\n",
    "\\end{bmatrix}\n",
    "$$\n",
    "\n",
    "$$\\begin{align*}\\beta=(\\Phi\\Phi^T)^{-1}\\Phi y\\end{align*}$$\n"
   ]
  },
  {
   "cell_type": "code",
   "execution_count": null,
   "metadata": {
    "slideshow": {
     "slide_type": "fragment"
    }
   },
   "outputs": [],
   "source": [
    "\n",
    "# stack an array of 1's and x on top of each other to create PHI\n",
    "PHI=np.vstack((np.ones(x.shape[0]),x))\n",
    "# PHI transpose\n",
    "PHI_T=PHI.T\n",
    "# Compute product of PHI with PHI transpose\n",
    "r=np.matmul(PHI,PHI_T)\n",
    "# Compute the inverse\n",
    "rinv=np.linalg.inv(r)\n",
    "beta=np.matmul(rinv,np.matmul(PHI,y))"
   ]
  },
  {
   "cell_type": "markdown",
   "metadata": {
    "slideshow": {
     "slide_type": "slide"
    }
   },
   "source": [
    "- Generate a straight line with $\\beta_1$ as slope and $\\beta_1$ as intercept"
   ]
  },
  {
   "cell_type": "code",
   "execution_count": null,
   "metadata": {
    "slideshow": {
     "slide_type": "fragment"
    }
   },
   "outputs": [],
   "source": [
    "print(beta)\n",
    "# generate a straight line using the optimal slope and intercept\n",
    "closed_form=[beta[0]+beta[1]*x for x in x]"
   ]
  },
  {
   "cell_type": "markdown",
   "metadata": {
    "slideshow": {
     "slide_type": "fragment"
    }
   },
   "source": [
    "- Plot the solution along with the data"
   ]
  },
  {
   "cell_type": "code",
   "execution_count": null,
   "metadata": {
    "slideshow": {
     "slide_type": "slide"
    }
   },
   "outputs": [],
   "source": [
    "import matplotlib.pyplot as plt\n",
    "#fig,ax=plt.subplots()\n",
    "plt.plot(x,y,'o')\n",
    "plt.plot(x,closed_form)\n",
    "plt.xlim([0,np.max(x)+1])\n",
    "plt.ylim([np.min(y)-1,np.max(y)+1])\n",
    "plt.show()"
   ]
  },
  {
   "cell_type": "markdown",
   "metadata": {
    "slideshow": {
     "slide_type": "slide"
    }
   },
   "source": [
    "## Gradient Descent\n",
    "\n",
    "- In many situations the solution for $\\frac{\\partial f}{\\partial\\beta}=0$ cannot be found in closed form. \n",
    "- An alternative is to use **gradient descent**. \n",
    "- The idea is to update the parameters in the opposite direction of the gradient. \n",
    "- By iterating the procedure we hope to find the values of the parameters that make the gradient vanish.\n"
   ]
  },
  {
   "cell_type": "markdown",
   "metadata": {
    "slideshow": {
     "slide_type": "slide"
    }
   },
   "source": [
    "- $\\frac{\\partial f}{\\partial\\beta}<0$ , increase $\\beta$ \n",
    "- $\\frac{\\partial f}{\\partial\\beta}>0$, decrease $\\beta$ "
   ]
  },
  {
   "cell_type": "markdown",
   "metadata": {
    "slideshow": {
     "slide_type": "fragment"
    }
   },
   "source": [
    "![download.png](data:image/png;base64,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)"
   ]
  },
  {
   "cell_type": "markdown",
   "metadata": {
    "slideshow": {
     "slide_type": "slide"
    }
   },
   "source": [
    "\n",
    "- The question of **how much** to increment/decrement remains. \n",
    "- From the figure it is clear that a large increment/decrement would make the value of $\\beta$ **overshoot** the minimum. \n",
    "- This is why the increment/decrements are controlled by a **learning rate**. \n",
    "- Therefore, for gradient descent, the parameters are updated using\n",
    "\n",
    "\\begin{align*}\n",
    "\\beta_{new}=\\beta_{old}-rate\\times\\frac{\\partial\\mathcal{L}}{\\partial\\beta}\n",
    "\\end{align*}\n",
    "- Where $\\mathcal{L}$ is a loss function\n"
   ]
  },
  {
   "cell_type": "markdown",
   "metadata": {
    "slideshow": {
     "slide_type": "slide"
    }
   },
   "source": [
    "- Start with random values for $\\beta_0$ and $\\beta_1$\n",
    "- Use gradient descent to find the **optimal** $\\beta_0$ and $\\beta_1$\n",
    "- Also, save a list all intermediate values of $\\beta$ between intial and optima in variable ```path```\n",
    "- Recall that \n",
    "$$\n",
    "\\begin{align*}\n",
    "\\frac{\\partial\\mathcal{L}}{\\partial \\beta}=-2\\Phi y+2\\Phi(\\Phi^T\\beta)\n",
    "\\end{align*}$$"
   ]
  },
  {
   "cell_type": "code",
   "execution_count": null,
   "metadata": {
    "slideshow": {
     "slide_type": "fragment"
    }
   },
   "outputs": [],
   "source": [
    "beta=np.random.uniform(size=(2))\n",
    "path=[]\n",
    "def gradient(beta):\n",
    "    a=-2*np.matmul(PHI,y)\n",
    "    b=2*np.matmul(PHI,np.matmul(PHI_T,beta))\n",
    "    return a+b"
   ]
  },
  {
   "cell_type": "markdown",
   "metadata": {
    "slideshow": {
     "slide_type": "slide"
    }
   },
   "source": [
    "- Now that we have an expression for $\\frac{\\partial\\mathcal{L}}{\\partial\\beta}$ and initial values for $\\beta$\n",
    "- We iterate over\n",
    "\\begin{align*}\n",
    "\\beta_{new}=\\beta_{old}-rate\\times\\frac{\\partial\\mathcal{L}}{\\partial\\beta}\n",
    "\\end{align*}\n",
    "- Saving intermediate values every 10 iterations"
   ]
  },
  {
   "cell_type": "code",
   "execution_count": null,
   "metadata": {
    "slideshow": {
     "slide_type": "fragment"
    }
   },
   "outputs": [],
   "source": [
    "\n",
    "rate=0.01\n",
    "for i in range(300):\n",
    "    db=gradient(beta)\n",
    "    beta=beta-rate*db\n",
    "    if(i%10==0):\n",
    "        path.append(beta)\n",
    "print(beta)\n"
   ]
  },
  {
   "cell_type": "markdown",
   "metadata": {
    "slideshow": {
     "slide_type": "slide"
    }
   },
   "source": [
    "- Create an animation from the lines formed by all values of $\\beta$ from initial to optimal"
   ]
  },
  {
   "cell_type": "code",
   "execution_count": null,
   "metadata": {
    "scrolled": true,
    "slideshow": {
     "slide_type": "fragment"
    }
   },
   "outputs": [],
   "source": [
    "def line(p,x):\n",
    "    return [p[0]+p[1]*x for x in x]\n",
    "\n",
    "def animate(i):\n",
    "    #print(\"i is {}\".format(i))\n",
    "    ax.clear()\n",
    "    ax.plot(x,y,'o')\n",
    "    ax.plot(x,closed_form,'--',color='blue')\n",
    "    ax.plot(x,line(path[i],x),color='red')\n",
    "    ax.set_xlim([0,np.max(x)])\n",
    "    ax.set_ylim([0,np.max(y)])\n"
   ]
  },
  {
   "cell_type": "code",
   "execution_count": null,
   "metadata": {
    "slideshow": {
     "slide_type": "slide"
    }
   },
   "outputs": [],
   "source": [
    "%matplotlib notebook\n",
    "from matplotlib.animation import FuncAnimation\n",
    "fig,ax=plt.subplots()\n",
    "an=FuncAnimation(fig, animate, frames=20, interval=500, repeat=False)\n",
    "plt.show()"
   ]
  }
 ],
 "metadata": {
  "celltoolbar": "Slideshow",
  "kernelspec": {
   "display_name": "Python 3 (ipykernel)",
   "language": "python",
   "name": "python3"
  },
  "language_info": {
   "codemirror_mode": {
    "name": "ipython",
    "version": 3
   },
   "file_extension": ".py",
   "mimetype": "text/x-python",
   "name": "python",
   "nbconvert_exporter": "python",
   "pygments_lexer": "ipython3",
   "version": "3.10.6"
  },
  "vscode": {
   "interpreter": {
    "hash": "81794d4967e6c3204c66dcd87b604927b115b27c00565d3d43f05ba2f3a2cb0d"
   }
  }
 },
 "nbformat": 4,
 "nbformat_minor": 2
}
